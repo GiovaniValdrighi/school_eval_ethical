{
  "nbformat": 4,
  "nbformat_minor": 0,
  "metadata": {
    "colab": {
      "provenance": [],
      "mount_file_id": "1iar-tfsoxFC6yXVAnAJEWv9mY75oFBgt",
      "authorship_tag": "ABX9TyN4g0EBod1Hbzln+3w45eLX",
      "include_colab_link": true
    },
    "kernelspec": {
      "name": "python3",
      "display_name": "Python 3"
    },
    "language_info": {
      "name": "python"
    }
  },
  "cells": [
    {
      "cell_type": "markdown",
      "metadata": {
        "id": "view-in-github",
        "colab_type": "text"
      },
      "source": [
        "<a href=\"https://colab.research.google.com/github/GiovaniValdrighi/school_eval_ethical/blob/main/notebooks/fairness_mitigation.ipynb\" target=\"_parent\"><img src=\"https://colab.research.google.com/assets/colab-badge.svg\" alt=\"Open In Colab\"/></a>"
      ]
    },
    {
      "cell_type": "code",
      "source": [
        "! pip install fairgbm scikit-lego aif360 fairlearn"
      ],
      "metadata": {
        "id": "u5XoZRAAW1rf"
      },
      "execution_count": null,
      "outputs": []
    },
    {
      "cell_type": "code",
      "execution_count": 93,
      "metadata": {
        "id": "wCYxkcQnQaeW"
      },
      "outputs": [],
      "source": [
        "import numpy as np\n",
        "import pandas as pd\n",
        "import matplotlib.pyplot as plt\n",
        "import seaborn as sns\n",
        "import pickle as pkl\n",
        "from aif360.algorithms.preprocessing import Reweighing\n",
        "from fairlearn.postprocessing import ThresholdOptimizer\n",
        "from fairgbm import FairGBMClassifier\n",
        "from aif360.datasets import BinaryLabelDataset\n",
        "from sklearn.model_selection import GridSearchCV\n",
        "from sklego.linear_model import DemographicParityClassifier\n",
        "from sklearn.preprocessing import StandardScaler, OneHotEncoder, OrdinalEncoder\n",
        "from sklearn.linear_model import LogisticRegression\n",
        "from sklearn.pipeline import Pipeline\n",
        "from sklearn.compose import ColumnTransformer\n",
        "from sklearn.metrics import recall_score, balanced_accuracy_score, confusion_matrix, brier_score_loss\n",
        "from time import time"
      ]
    },
    {
      "cell_type": "code",
      "source": [
        "from google.colab import drive\n",
        "drive.mount('/content/drive')"
      ],
      "metadata": {
        "colab": {
          "base_uri": "https://localhost:8080/"
        },
        "id": "cpPj8VK4QicY",
        "outputId": "859ca06e-0c6e-4737-d840-9d5db5141982"
      },
      "execution_count": 3,
      "outputs": [
        {
          "output_type": "stream",
          "name": "stdout",
          "text": [
            "Drive already mounted at /content/drive; to attempt to forcibly remount, call drive.mount(\"/content/drive\", force_remount=True).\n"
          ]
        }
      ]
    },
    {
      "cell_type": "code",
      "source": [
        "PATH_ROOT = \"/content/drive/MyDrive/courses/ai_ethics/school_eval/\"\n",
        "TRAIN_MODELS = False # use False for not training models that have long computational cost"
      ],
      "metadata": {
        "id": "mFSL4WfbQxTv"
      },
      "execution_count": 4,
      "outputs": []
    },
    {
      "cell_type": "code",
      "source": [
        "studied_model = pkl.load(open(PATH_ROOT + \"results/lr_causal_feature_selection_grid.pkl\", \"rb\"))\n",
        "X_train = pd.read_csv(PATH_ROOT + \"data/X_train_clean.csv\")\n",
        "X_test = pd.read_csv(PATH_ROOT + \"data/X_test_clean.csv\")\n",
        "Y_train = pd.read_csv(PATH_ROOT + \"data/Y_train_clean.csv\")\n",
        "Y_test = pd.read_csv(PATH_ROOT + \"data/Y_test_clean.csv\")"
      ],
      "metadata": {
        "id": "dDxosZTjQ0Ms"
      },
      "execution_count": 9,
      "outputs": []
    },
    {
      "cell_type": "code",
      "source": [
        "causal_features = ['TX_RESP_Q075',\n",
        "  'TX_RESP_Q018',\n",
        "  'TX_RESP_Q203',\n",
        "  'TX_RESP_Q162',\n",
        "  'TX_RESP_Q046',\n",
        "  'TX_RESP_Q236',\n",
        "  'TX_RESP_Q049',\n",
        "  'TX_RESP_Q131',\n",
        "  'TX_RESP_Q163',\n",
        "  'TX_RESP_Q166',\n",
        "  'TX_RESP_Q167',\n",
        "  'TX_RESP_Q001',\n",
        "  'TX_RESP_Q133',\n",
        "  'TX_RESP_Q115',\n",
        "  'NU_PRESENTES_9EF',\n",
        "  'TX_RESP_Q112',\n",
        "  'TX_RESP_Q078',\n",
        "  'TX_RESP_Q181',\n",
        "  'TX_RESP_Q165',\n",
        "  'TX_RESP_Q200',\n",
        "  'NU_MATRICULADOS_CENSO_9EF',\n",
        "  'TX_RESP_Q134',\n",
        "  'TX_RESP_Q160',\n",
        "  'TX_RESP_Q225',\n",
        "  'TX_RESP_Q101',\n",
        "  'TX_RESP_Q082',\n",
        "  'TX_RESP_Q091',\n",
        "  'TX_RESP_Q108',\n",
        "  'NIVEL_SOCIO_ECONOMICO',\n",
        "  'TX_RESP_Q201',\n",
        "  'TX_RESP_Q035',\n",
        "  'TX_RESP_Q016',\n",
        "  'ID_REGIAO',\n",
        "  'TX_RESP_Q250',\n",
        "  'TX_RESP_Q155',\n",
        "  'TX_RESP_Q056',\n",
        "  'TX_RESP_Q137',\n",
        "  'TX_RESP_Q153',\n",
        "  'TX_RESP_Q151',\n",
        "  'TX_RESP_Q038',\n",
        "  'TX_RESP_Q164',\n",
        "  'TX_RESP_Q210',\n",
        "  'TX_RESP_Q243',\n",
        "  'TX_RESP_Q118',\n",
        "  'PC_FORMACAO_DOCENTE_FINAL',\n",
        "  'TX_RESP_Q053',\n",
        "  'TX_RESP_Q158',\n",
        "  'ID_UF',\n",
        "  'TX_RESP_Q117',\n",
        "  'TX_RESP_Q063']"
      ],
      "metadata": {
        "id": "n59OCmWmePGi"
      },
      "execution_count": 6,
      "outputs": []
    },
    {
      "cell_type": "code",
      "source": [
        "X_train_causal = X_train[causal_features]\n",
        "X_test_causal = X_test[causal_features]"
      ],
      "metadata": {
        "id": "hB2g7AbWgmpe"
      },
      "execution_count": 7,
      "outputs": []
    },
    {
      "cell_type": "code",
      "source": [
        "Y_pred_train = studied_model.predict(X_train_causal)\n",
        "Y_pred_test = studied_model.predict(X_test_causal)"
      ],
      "metadata": {
        "id": "sCR_KSzEhMJ4"
      },
      "execution_count": 11,
      "outputs": []
    },
    {
      "cell_type": "code",
      "source": [
        "features_info_dict ={\n",
        "  'TX_RESP_Q075': 'Violence led class cancellations.',\n",
        "  'TX_RESP_Q018': 'Weekly director spent in snack time hours (0-30).',\n",
        "  'TX_RESP_Q203': 'Promote peer support to reduce repetition.',\n",
        "  'TX_RESP_Q162': 'Student involvement in planning?',\n",
        "  'TX_RESP_Q046': 'Received Department of Ed. support?',\n",
        "  'TX_RESP_Q236': 'Need for Libras teacher?',\n",
        "  'TX_RESP_Q049': 'Agree on easy teacher substitutions?',\n",
        "  'TX_RESP_Q131': 'Class Council meetings this year?',\n",
        "  'TX_RESP_Q163': 'Setting learning goals?',\n",
        "  'TX_RESP_Q166': 'All applicants enrolled this year?',\n",
        "  'TX_RESP_Q167': 'Criteria for new student enrollment: Drawing?',\n",
        "  'TX_RESP_Q001': 'Your color or race?',\n",
        "  'TX_RESP_Q133': 'PTA meetings this year?',\n",
        "  'TX_RESP_Q115': 'School buys personal hygiene materials?',\n",
        "  'TX_RESP_Q112': 'School buys pedagogical resources?',\n",
        "  'TX_RESP_Q078': \"Childrens shower-equipped bathroom?\",\n",
        "  'TX_RESP_Q181': 'Criteria for class formation: Performance grouping.',\n",
        "  'TX_RESP_Q165': 'Goals for external indicators?',\n",
        "  'TX_RESP_Q200': 'Actions to reduce school drop-out: Home visits.',\n",
        "  'TX_RESP_Q134': 'Existence of Student Union?',\n",
        "  'TX_RESP_Q160': 'Teacher participation in planning?',\n",
        "  'TX_RESP_Q225': 'School offered large-scale assessment training?',\n",
        "  'TX_RESP_Q101': 'Equipment in external recreation areas: Bench?',\n",
        "  'TX_RESP_Q082': 'External area items: Covered area?',\n",
        "  'TX_RESP_Q091': 'External area soil/flooring: Ceramic?',\n",
        "  'TX_RESP_Q108': 'External identification of school building?',\n",
        "  'TX_RESP_Q201': 'Actions to reduce drop-out: Informing Guardianship Council.',\n",
        "  'TX_RESP_Q035': 'Educational stages served: Early Ed. and Preschool (4-5 yrs).',\n",
        "  'TX_RESP_Q016': 'Hours for individual teacher assistance (0-30).',\n",
        "  'TX_RESP_Q250': 'Training areas: High abilities/giftedness?',\n",
        "  'TX_RESP_Q155': 'Sinks for hand hygiene near feeding area?',\n",
        "  'TX_RESP_Q056': 'All students received textbooks?',\n",
        "  'TX_RESP_Q137': 'School follows religious orientation?',\n",
        "  'TX_RESP_Q153': 'Everyone eats while sitting?',\n",
        "  'TX_RESP_Q151': 'Food quality is good?',\n",
        "  'TX_RESP_Q038': 'Educational stages served: High School.',\n",
        "  'TX_RESP_Q164': 'Considers external assessment results?'\n",
        "}"
      ],
      "metadata": {
        "id": "npDtKLRTRPuN"
      },
      "execution_count": null,
      "outputs": []
    },
    {
      "cell_type": "markdown",
      "source": [
        "## Fairness evaluation"
      ],
      "metadata": {
        "id": "9xYy1w8vZfDC"
      }
    },
    {
      "cell_type": "code",
      "source": [
        "sensitive_features = {\n",
        "    \"ID_REGIAO\" : \"region\",\n",
        "    \"NIVEL_SOCIO_ECONOMICO\" : \"socioeconomic_index\"\n",
        "}"
      ],
      "metadata": {
        "id": "h5F532K9JUgC"
      },
      "execution_count": 10,
      "outputs": []
    },
    {
      "cell_type": "code",
      "source": [
        "fig, axs = plt.subplots(nrows = 1, ncols = 2, figsize = (10, 3))\n",
        "base = np.zeros(5)\n",
        "for y in [0, 1]:\n",
        "  bars = []\n",
        "  for col in [\"sul\", \"sudeste\", \"centro-oeste\", \"nordeste\", \"norte\"]:\n",
        "    y_ = Y_train[X_train[\"ID_REGIAO\"] == col].values\n",
        "    bars.append((y_ == y).sum())\n",
        "  axs[0].bar(np.arange(len(bars)), bars, label = str(y))\n",
        "axs[0].legend(title = \"Y\")\n",
        "axs[0].set_xticks(np.arange(len(bars)))\n",
        "axs[0].set_xticklabels([\"sul\", \"sudeste\", \"centro-oeste\", \"nordeste\", \"norte\"], rotation = 45)\n",
        "\n",
        "\n",
        "base = np.zeros(7)\n",
        "for y in [0, 1]:\n",
        "  bars = []\n",
        "  for col in ['nivel-i', 'nivel-ii', 'nivel-iii', 'nivel-iv', 'nivel-v', 'nivel-vi',  'nivel-vii']:\n",
        "    y_ = Y_train[X_train[\"NIVEL_SOCIO_ECONOMICO\"] == col].values\n",
        "    bars.append((y_ == y).sum())\n",
        "  axs[1].bar(np.arange(len(bars)), bars, label = str(y))\n",
        "axs[1].legend(title = \"Y\")\n",
        "axs[1].set_xticks(np.arange(len(bars)))\n",
        "axs[1].set_xticklabels(['nivel-i', 'nivel-ii', 'nivel-iii', 'nivel-iv', 'nivel-v', 'nivel-vi',  'nivel-vii'], rotation = 45)\n",
        "plt.suptitle(\"Distribution of sensitive attributes\")\n",
        "plt.show()\n"
      ],
      "metadata": {
        "colab": {
          "base_uri": "https://localhost:8080/",
          "height": 379
        },
        "id": "yuQtkMABkZpU",
        "outputId": "f2fb55ee-303e-48d8-e341-6cee904468e5"
      },
      "execution_count": 35,
      "outputs": [
        {
          "output_type": "display_data",
          "data": {
            "text/plain": [
              "<Figure size 1000x300 with 2 Axes>"
            ],
            "image/png": "[encoded data removed]"
          },
          "metadata": {}
        }
      ]
    },
    {
      "cell_type": "code",
      "source": [
        "regiao_attr_train = X_train.ID_REGIAO.apply(lambda x : 1 if x in [\"norte\", \"nordeste\"] else 0).values\n",
        "regiao_attr_test = X_test.ID_REGIAO.apply(lambda x : 1 if x in [\"norte\", \"nordeste\"] else 0).values\n",
        "\n",
        "socioeconomic_attr_train = X_train.NIVEL_SOCIO_ECONOMICO.apply(lambda x : 1 if x in [\"nivel-i\", \"nivel-ii\", \"nivel-iii\", \"nivel-iv\"] else 0).values\n",
        "socioeconomic_attr_test = X_test.NIVEL_SOCIO_ECONOMICO.apply(lambda x : 1 if x in [\"nivel-i\", \"nivel-ii\", \"nivel-iii\", \"nivel-iv\"] else 0).values"
      ],
      "metadata": {
        "id": "etF-H2ZQLTQh"
      },
      "execution_count": 37,
      "outputs": []
    },
    {
      "cell_type": "code",
      "source": [
        "def demographic_parity(Y, A):\n",
        "  return np.mean(Y[A == 1]) - np.mean(Y[A == 0])"
      ],
      "metadata": {
        "id": "6WTexd3FLnhx"
      },
      "execution_count": 36,
      "outputs": []
    },
    {
      "cell_type": "code",
      "source": [
        "print(\"Measures of dataset\")\n",
        "print(f\"Region unfairness (DP) {demographic_parity(Y_train.values, regiao_attr_train):.3f}\")\n",
        "print(f\"Socioeconomic level unfairness (DP) {demographic_parity(Y_train.values, socioeconomic_attr_train):.3f}\")"
      ],
      "metadata": {
        "colab": {
          "base_uri": "https://localhost:8080/"
        },
        "id": "PDtaTk2gMllJ",
        "outputId": "7fdf1a5e-b115-4201-e9d3-d1d818656bdc"
      },
      "execution_count": 43,
      "outputs": [
        {
          "output_type": "stream",
          "name": "stdout",
          "text": [
            "Measures of dataset\n",
            "Region unfairness (DP) 0.366\n",
            "Socioeconomic level unfairness (DP) 0.427\n"
          ]
        }
      ]
    },
    {
      "cell_type": "code",
      "source": [
        "def equal_opportunity(Y_target, Y_pred, A):\n",
        "  tpr_1 = np.mean(Y_pred[(Y_target == 1) & (A == 1)])\n",
        "  tpr_0 = np.mean(Y_pred[(Y_target == 1) & (A == 0)])\n",
        "  return tpr_1 - tpr_0"
      ],
      "metadata": {
        "id": "lR6cmLqSNC7E"
      },
      "execution_count": 53,
      "outputs": []
    },
    {
      "cell_type": "code",
      "source": [
        "print(\"Measures of model\")\n",
        "print(f\"Region unfairness (DP) {demographic_parity(Y_pred_train, regiao_attr_train):.3f}\")\n",
        "print(f\"Socioeconomic level unfairness (DP) {demographic_parity(Y_pred_train, socioeconomic_attr_train):.3f}\")\n",
        "print(f\"Region unfairness (EO) {equal_opportunity(Y_train.values.flat, Y_pred_train, regiao_attr_train):.3f}\")\n",
        "print(f\"Socioeconomic level unfairness (EO) {equal_opportunity(Y_train.values.flat, Y_pred_train, socioeconomic_attr_train):.3f}\")"
      ],
      "metadata": {
        "colab": {
          "base_uri": "https://localhost:8080/"
        },
        "id": "kK14zpbwNTls",
        "outputId": "d844c1cd-7a3a-4b5f-8b52-3bb40df7b877"
      },
      "execution_count": 54,
      "outputs": [
        {
          "output_type": "stream",
          "name": "stdout",
          "text": [
            "Measures of model\n",
            "Region unfairness (DP) 0.546\n",
            "Socioeconomic level unfairness (DP) 0.564\n",
            "Region unfairness (EO) 0.520\n",
            "Socioeconomic level unfairness (EO) 0.731\n"
          ]
        }
      ]
    },
    {
      "cell_type": "markdown",
      "source": [
        "## Fairness mitigation"
      ],
      "metadata": {
        "id": "3ZfXuhg9OgIO"
      }
    },
    {
      "cell_type": "code",
      "source": [
        "num_features = ['PC_FORMACAO_DOCENTE_FINAL',\n",
        " 'NU_MATRICULADOS_CENSO_9EF',\n",
        " 'NU_PRESENTES_9EF',\n",
        " 'TX_RESP_Q016',\n",
        " 'TX_RESP_Q018']\n",
        "\n",
        "binary_features = ['TX_RESP_Q035',\n",
        " 'TX_RESP_Q038',\n",
        " 'TX_RESP_Q063',\n",
        " 'TX_RESP_Q078',\n",
        " 'TX_RESP_Q082',\n",
        " 'TX_RESP_Q091',\n",
        " 'TX_RESP_Q101',\n",
        " 'TX_RESP_Q112',\n",
        " 'TX_RESP_Q115',\n",
        " 'TX_RESP_Q117',\n",
        " 'TX_RESP_Q131',\n",
        " 'TX_RESP_Q133',\n",
        " 'TX_RESP_Q137',\n",
        " 'TX_RESP_Q158',\n",
        " 'TX_RESP_Q166',\n",
        " 'TX_RESP_Q167',\n",
        " 'TX_RESP_Q181',\n",
        " 'TX_RESP_Q210',\n",
        " 'TX_RESP_Q225',\n",
        " 'TX_RESP_Q236',\n",
        " 'TX_RESP_Q243',\n",
        " 'TX_RESP_Q250']\n",
        "\n",
        "cat_features = ['ID_REGIAO',\n",
        " 'ID_UF',\n",
        " 'NIVEL_SOCIO_ECONOMICO',\n",
        " 'TX_RESP_Q001',\n",
        " 'TX_RESP_Q046',\n",
        " 'TX_RESP_Q049',\n",
        " 'TX_RESP_Q053',\n",
        " 'TX_RESP_Q056',\n",
        " 'TX_RESP_Q075',\n",
        " 'TX_RESP_Q108',\n",
        " 'TX_RESP_Q118',\n",
        " 'TX_RESP_Q134',\n",
        " 'TX_RESP_Q151',\n",
        " 'TX_RESP_Q153',\n",
        " 'TX_RESP_Q155',\n",
        " 'TX_RESP_Q160',\n",
        " 'TX_RESP_Q162',\n",
        " 'TX_RESP_Q163',\n",
        " 'TX_RESP_Q164',\n",
        " 'TX_RESP_Q165',\n",
        " 'TX_RESP_Q200',\n",
        " 'TX_RESP_Q201',\n",
        " 'TX_RESP_Q203']"
      ],
      "metadata": {
        "id": "D_im6LV8QCWI"
      },
      "execution_count": 60,
      "outputs": []
    },
    {
      "cell_type": "code",
      "source": [
        "params_space = {}\n",
        "params_space[\"FairGBM\"] = {\n",
        "  \"classifier__max_depth\" : [4, 6, 8],\n",
        "  #\"classifier__colsample_bytree\" : [0.5, 0.75, 1],\n",
        "  #\"classifier__n_estimators\" : [10, 15, 20, 50],\n",
        "  #\"classifier__lambda_l2\" : [0.1, 1, 10, 100],\n",
        "  #\"classifier__verbose\" : [-1],\n",
        "}\n",
        "params_space[\"DPClassifier\"] = {\n",
        "    \"classifier__estimator__covariance_threshold\" :  [0.01, 0.05, 0.1, 0.2, 0.3],\n",
        "    \"classifier__estimator__C\" :  [0.01, 0.1, 1, 10, 100],\n",
        "    \"classifier__estimator__max_iter\" : [1000]\n",
        "}\n",
        "params_space[\"lr_rw\"] = {\n",
        "      \"classifier__C\" :  [0.01, 0.1, 1, 10, 100],\n",
        "      \"classifier__max_iter\" : [1000]\n",
        "}"
      ],
      "metadata": {
        "id": "TH5GinofP32d"
      },
      "execution_count": 98,
      "outputs": []
    },
    {
      "cell_type": "code",
      "source": [
        "def get_pipeline(model = None):\n",
        "  pipeline = [(\n",
        "    \"preprocess\",\n",
        "    ColumnTransformer([\n",
        "        [\"scaling\", StandardScaler(), num_features],\n",
        "        [\"one_hot\", OneHotEncoder(sparse_output = False, handle_unknown=\"ignore\"), cat_features]\n",
        "      ], remainder = \"passthrough\", verbose_feature_names_out=False)\n",
        "  )]\n",
        "  pipeline[0][1].set_output(transform = \"pandas\")\n",
        "  if model is not None:\n",
        "    pipeline += [(\"classifier\", model)]\n",
        "  return Pipeline(pipeline)"
      ],
      "metadata": {
        "id": "m2u2nVxAPjmX"
      },
      "execution_count": 74,
      "outputs": []
    },
    {
      "cell_type": "markdown",
      "source": [
        "### Pre-processing"
      ],
      "metadata": {
        "id": "UD93rbvbO2AE"
      }
    },
    {
      "cell_type": "code",
      "source": [
        "preprocess = get_pipeline()\n",
        "preprocess.fit(X_train_causal)\n",
        "df_rw = preprocess.transform(X_train_causal)\n",
        "df_rw[\"SUPPORT\"] = Y_train.values\n",
        "df_rw[\"socioeconomic_attr\"] = socioeconomic_attr_train\n",
        "x_train_aif = BinaryLabelDataset(\n",
        "    df = df_rw,\n",
        "    label_names = [\"SUPPORT\"],\n",
        "    protected_attribute_names = [\"socioeconomic_attr\"]\n",
        ")\n",
        "rw = Reweighing(\n",
        "    unprivileged_groups = [{\"socioeconomic_attr\": 1}],\n",
        "    privileged_groups = [{\"socioeconomic_attr\": 0}],\n",
        ")\n",
        "rw.fit(x_train_aif)\n",
        "rw_weights = rw.transform(x_train_aif).instance_weights\n",
        "name = \"lr_rw\"\n",
        "start = time()\n",
        "m = get_pipeline(LogisticRegression())\n",
        "grid = GridSearchCV(m, params_space[name], scoring = \"recall\", n_jobs = -1)\n",
        "grid.fit(X_train_causal, Y_train.values.ravel(), classifier__sample_weight = rw_weights)\n",
        "pkl.dump(grid, open(PATH_ROOT + \"results/\" + name + \"_grid.pkl\", \"wb\"))\n",
        "end = time()\n",
        "print(f\"Finished {name} in {end - start}\")"
      ],
      "metadata": {
        "colab": {
          "base_uri": "https://localhost:8080/"
        },
        "id": "L-ZLNXJ-ZRxs",
        "outputId": "5e4655b5-c9f6-4903-9d7c-465eb5ac68bc"
      },
      "execution_count": 101,
      "outputs": [
        {
          "output_type": "stream",
          "name": "stdout",
          "text": [
            "Finished lr_rw in 28.005990266799927\n"
          ]
        }
      ]
    },
    {
      "cell_type": "markdown",
      "source": [
        "### In-processing"
      ],
      "metadata": {
        "id": "jSINCnFsO4K0"
      }
    },
    {
      "cell_type": "code",
      "source": [
        "X_train_causal_ = X_train_causal.copy()\n",
        "X_train_causal_[\"socioeconomic_attr\"] = socioeconomic_attr_train"
      ],
      "metadata": {
        "id": "__hPpCY9VjBA"
      },
      "execution_count": 78,
      "outputs": []
    },
    {
      "cell_type": "code",
      "source": [
        "name = \"DPClassifier\"\n",
        "start = time()\n",
        "m = get_pipeline(DemographicParityClassifier(\n",
        "    covariance_threshold = 0.1,\n",
        "    sensitive_cols = \"socioeconomic_attr\",\n",
        "    train_sensitive_cols = False\n",
        "))\n",
        "grid = GridSearchCV(m, params_space[name], scoring = \"recall\", n_jobs = -1)\n",
        "grid.fit(X_train_causal_, Y_train.values.ravel())\n",
        "pkl.dump(grid, open(PATH_ROOT + \"results/\" + name + \"_grid.pkl\", \"wb\"))\n",
        "end = time()\n",
        "print(f\"Finished {name} in {end - start}\")\n"
      ],
      "metadata": {
        "id": "1Jc3DfVDVVDS"
      },
      "execution_count": null,
      "outputs": []
    },
    {
      "cell_type": "code",
      "source": [
        "name = \"FairGBM\"\n",
        "start = time()\n",
        "m = get_pipeline(FairGBMClassifier)\n",
        "grid = GridSearchCV(m(), params_space[\"FairGBM\"], scoring = \"recall\", n_jobs = -1)\n",
        "grid.fit(X_train_causal, Y_train.values.ravel(), classifier__constraint_group = socioeconomic_attr_train)\n",
        "pkl.dump(grid, open(PATH_ROOT + \"results/\" + name + \"_grid.pkl\", \"wb\"))\n",
        "end = time()\n",
        "print(f\"Finished {name} in {end - start}\")\n"
      ],
      "metadata": {
        "id": "f5darPObRHPA"
      },
      "execution_count": 72,
      "outputs": []
    },
    {
      "cell_type": "markdown",
      "source": [
        "### Post-processing"
      ],
      "metadata": {
        "id": "3A0kWdoxO5q9"
      }
    },
    {
      "cell_type": "code",
      "source": [
        "name = \"threshold_opt\"\n",
        "m = ThresholdOptimizer(\n",
        "  estimator=studied_model,\n",
        "  constraints=\"demographic_parity\",\n",
        "  objective=\"accuracy_score\",\n",
        "  prefit=True,\n",
        "  predict_method=\"predict_proba\",\n",
        ")\n",
        "m.fit(X_train_causal, Y_train, sensitive_features=socioeconomic_attr_train)"
      ],
      "metadata": {
        "id": "fmU9HqzlO3sB"
      },
      "execution_count": null,
      "outputs": []
    }
  ]
}